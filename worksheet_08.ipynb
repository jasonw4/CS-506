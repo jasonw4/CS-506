{
 "cells": [
  {
   "attachments": {},
   "cell_type": "markdown",
   "metadata": {},
   "source": [
    "# Worksheet 08\n",
    "\n",
    "Name:  Jason Wang  \n",
    "UID: U73827229  \n",
    "\n",
    "### Topics\n",
    "\n",
    "- Soft Clustering\n",
    "- Clustering Aggregation\n",
    "\n",
    "### Probability Review\n",
    "\n",
    "Read through [the following](https://medium.com/@gallettilance/overview-of-probability-3272b72c82c8)\n",
    "\n",
    "### Soft Clustering\n",
    "\n",
    "We generate 10 data points that come from a normal distribution with mean 5 and variance 1."
   ]
  },
  {
   "cell_type": "code",
   "execution_count": 21,
   "metadata": {},
   "outputs": [
    {
     "name": "stdout",
     "output_type": "stream",
     "text": [
      "[6.114655801857683, 3.8746181777867523, 6.9351878361205905, 5.369781536192944, 5.2528584115496795, 4.914620939315725, 5.445375698404781, 5.3206358280263775, 3.9571847186256477, 5.886786104991123]\n"
     ]
    }
   ],
   "source": [
    "import random\n",
    "import numpy as np\n",
    "from sklearn.cluster import KMeans\n",
    "\n",
    "mean = 5\n",
    "stdev = 1\n",
    "\n",
    "s1 = np.random.normal(mean, stdev, 10).tolist()\n",
    "print(s1)"
   ]
  },
  {
   "cell_type": "markdown",
   "metadata": {},
   "source": [
    "a) Generate 10 more data points, this time coming from a normal distribution with mean 8 and variance 1."
   ]
  },
  {
   "cell_type": "code",
   "execution_count": 22,
   "metadata": {},
   "outputs": [
    {
     "name": "stdout",
     "output_type": "stream",
     "text": [
      "[8.684569517874694, 8.408753319945827, 6.743318138241413, 6.409451244184588, 7.364048147642151, 7.782942748689725, 6.559437909352123, 9.182050884714602, 9.120890434401053, 7.7375478452637125]\n"
     ]
    }
   ],
   "source": [
    "s2 = np.random.normal( 8 , 1 , 10 ).tolist()\n",
    "print(s2)"
   ]
  },
  {
   "cell_type": "markdown",
   "metadata": {},
   "source": [
    "b) Flip a fair coin 10 times. If the coin lands on H, then pick the last data point of `c1` and remove it from `c1`, if T then pick the last data point from `c2` and remove it from `c2`. Add these 10 points to a list called `data`."
   ]
  },
  {
   "cell_type": "code",
   "execution_count": 23,
   "metadata": {},
   "outputs": [
    {
     "name": "stdout",
     "output_type": "stream",
     "text": [
      "[5.886786104991123, 7.7375478452637125, 3.9571847186256477, 9.120890434401053, 9.182050884714602, 6.559437909352123, 5.3206358280263775, 7.782942748689725, 7.364048147642151, 5.445375698404781]\n"
     ]
    }
   ],
   "source": [
    "data = []\n",
    "for i in range(10):\n",
    "    # flip coin\n",
    "    coin_output = random.choice([0, 1])\n",
    "    if coin_output == 0:\n",
    "        p1 = s1.pop()\n",
    "        data.append(p1)\n",
    "    else:\n",
    "        p2 = s2.pop()\n",
    "        data.append(p2)\n",
    "print(data)"
   ]
  },
  {
   "cell_type": "markdown",
   "metadata": {},
   "source": [
    "c) This `data` is a Gaussian Mixture Distribution with 2 mixture components. Over the next few questions we will walk through the GMM algorithm to see if we can uncover the parameters we used to generate this data. First, please list all these parameters of the GMM that created `data` and the values we know they have."
   ]
  },
  {
   "cell_type": "markdown",
   "metadata": {},
   "source": [
    "The mean and variance of each component."
   ]
  },
  {
   "cell_type": "markdown",
   "metadata": {},
   "source": [
    "d) Let's assume there are two mixture components (note: we could plot the data and make the observation that there are two clusters). The EM algorithm asks us to start with a random `mean_j`, `variance_j`, `P(S_j)` for each component j. One method we could use to find sensible values for these is to apply K means with k=2 here.\n",
    "\n",
    "1. the centroids would be the estimates of the `mean_j`\n",
    "2. the intra-cluster variance could be the estimate of `variance_j`\n",
    "3. the proportion of points in each cluster could be the estimate of `P(S_j)`\n",
    "\n",
    "Go through this process and list the parameter estimates it gives. Are they close or far from the true values?"
   ]
  },
  {
   "cell_type": "code",
   "execution_count": 24,
   "metadata": {},
   "outputs": [
    {
     "name": "stdout",
     "output_type": "stream",
     "text": [
      "[7.7375478452637125, 9.120890434401053, 9.182050884714602, 7.782942748689725, 7.364048147642151]\n",
      "[5.886786104991123, 3.9571847186256477, 6.559437909352123, 5.3206358280263775, 5.445375698404781]\n",
      "P(S_1) = 0.5,  P(S_2) = 0.5\n",
      "mean_1 = 8.237496012142248,  mean_2 = 5.433884051880011\n",
      "var_1 = 0.5784095246916942,  var_2 = 0.7331179789524693\n"
     ]
    },
    {
     "name": "stderr",
     "output_type": "stream",
     "text": [
      "/Users/jasonwang/anaconda3/lib/python3.10/site-packages/sklearn/cluster/_kmeans.py:1412: FutureWarning: The default value of `n_init` will change from 10 to 'auto' in 1.4. Set the value of `n_init` explicitly to suppress the warning\n",
      "  super()._check_params_vs_input(X, default_n_init=10)\n"
     ]
    }
   ],
   "source": [
    "kmeans = KMeans(2, init='k-means++').fit(X=np.array(data).reshape(-1, 1))\n",
    "\n",
    "s1 = [x[0] for x in filter(lambda x: x[1] == 0, zip(data, kmeans.labels_))]\n",
    "print(s1)\n",
    "s2 = [x[0] for x in filter(lambda x: x[1] == 1, zip(data, kmeans.labels_))]\n",
    "print(s2)\n",
    "\n",
    "prob_s = [ len(s1) / (len(s1) + len(s2)) , len(s2) / (len(s1) + len(s2)) ]\n",
    "mean = [ sum(s1)/len(s1) , sum(s2)/len(s2) ]\n",
    "var = [ sum(map(lambda x : (x - mean[0])**2, s1)) / len(s1) , sum(map(lambda x : (x - mean[1])**2, s2)) / len(s2) ]\n",
    "\n",
    "print(\"P(S_1) = \" + str(prob_s[0]) + \",  P(S_2) = \" + str(prob_s[1]))\n",
    "print(\"mean_1 = \" + str(mean[0]) + \",  mean_2 = \" + str(mean[1]))\n",
    "print(\"var_1 = \" + str(var[0]) + \",  var_2 = \" + str(var[1]))"
   ]
  },
  {
   "cell_type": "markdown",
   "metadata": {},
   "source": []
  },
  {
   "cell_type": "markdown",
   "metadata": {},
   "source": [
    "e) For each data point, compute `P(S_j | X_i)`. Comment on which cluster you think each point belongs to based on the estimated probabilities. How does that compare to the truth?"
   ]
  },
  {
   "cell_type": "code",
   "execution_count": 25,
   "metadata": {},
   "outputs": [
    {
     "name": "stdout",
     "output_type": "stream",
     "text": [
      "point =  5.886786104991123\n",
      "probability of observing that point if it came from cluster 0 =  0.00017868430105358844\n",
      "probability of observing that point if it came from cluster 1 =  0.4496377812301882\n",
      "point =  7.7375478452637125\n",
      "probability of observing that point if it came from cluster 0 =  0.47472684885140326\n",
      "probability of observing that point if it came from cluster 1 =  0.0039051482131735016\n",
      "point =  3.9571847186256477\n",
      "probability of observing that point if it came from cluster 0 =  8.856103988826855e-13\n",
      "probability of observing that point if it came from cluster 1 =  0.07156589762028366\n",
      "point =  9.120890434401053\n",
      "probability of observing that point if it came from cluster 0 =  0.2148617549870863\n",
      "probability of observing that point if it came from cluster 1 =  1.7515998382680308e-06\n",
      "point =  9.182050884714602\n",
      "probability of observing that point if it came from cluster 0 =  0.1818007254568917\n",
      "probability of observing that point if it came from cluster 1 =  1.1473868305728978e-06\n",
      "point =  6.559437909352123\n",
      "probability of observing that point if it came from cluster 0 =  0.010256663487743263\n",
      "probability of observing that point if it came from cluster 1 =  0.16745202518811397\n",
      "point =  5.3206358280263775\n",
      "probability of observing that point if it came from cluster 0 =  2.0722510751593317e-06\n",
      "probability of observing that point if it came from cluster 1 =  0.5377179448105983\n",
      "point =  7.782942748689725\n",
      "probability of observing that point if it came from cluster 0 =  0.5064856546638346\n",
      "probability of observing that point if it came from cluster 1 =  0.003208512778587695\n",
      "point =  7.364048147642151\n",
      "probability of observing that point if it came from cluster 0 =  0.220546973613515\n",
      "probability of observing that point if it came from cluster 1 =  0.017003303836084577\n",
      "point =  5.445375698404781\n",
      "probability of observing that point if it came from cluster 0 =  6.007044365038684e-06\n",
      "probability of observing that point if it came from cluster 1 =  0.5441051556412569\n",
      "5.886786104991123\n",
      "Probability of coming from S_1 = 0.0003972382399176048\n",
      "Probability of coming from S_2 = 0.9996027617600823\n",
      "\n",
      "7.7375478452637125\n",
      "Probability of coming from S_1 = 0.9918410214170311\n",
      "Probability of coming from S_2 = 0.008158978582968872\n",
      "\n",
      "3.9571847186256477\n",
      "Probability of coming from S_1 = 1.2374754293876432e-11\n",
      "Probability of coming from S_2 = 0.9999999999876252\n",
      "\n",
      "9.120890434401053\n",
      "Probability of coming from S_1 = 0.9999918478485896\n",
      "Probability of coming from S_2 = 8.152151410409048e-06\n",
      "\n",
      "9.182050884714602\n",
      "Probability of coming from S_1 = 0.9999936888063218\n",
      "Probability of coming from S_2 = 6.311193678181725e-06\n",
      "\n",
      "6.559437909352123\n",
      "Probability of coming from S_1 = 0.05771616213122556\n",
      "Probability of coming from S_2 = 0.9422838378687745\n",
      "\n",
      "5.3206358280263775\n",
      "Probability of coming from S_1 = 3.853773356779567e-06\n",
      "Probability of coming from S_2 = 0.9999961462266432\n",
      "\n",
      "7.782942748689725\n",
      "Probability of coming from S_1 = 0.9937050235542471\n",
      "Probability of coming from S_2 = 0.006294976445752924\n",
      "\n",
      "7.364048147642151\n",
      "Probability of coming from S_1 = 0.9284222943511732\n",
      "Probability of coming from S_2 = 0.0715777056488268\n",
      "\n",
      "5.445375698404781\n",
      "Probability of coming from S_1 = 1.1040104995069638e-05\n",
      "Probability of coming from S_2 = 0.9999889598950049\n",
      "\n"
     ]
    }
   ],
   "source": [
    "from scipy.stats import norm\n",
    "\n",
    "prob_s0_x = [] # P(S_0 | X_i)\n",
    "prob_s1_x = [] # P(S_1 | X_i)\n",
    "prob_x = [] # P(X_i)\n",
    "\n",
    "k = 2\n",
    "\n",
    "for p in data:\n",
    "    print(\"point = \", p)\n",
    "    pdf_i = []\n",
    "\n",
    "    for j in range(k):\n",
    "        # P(X_i | S_j)\n",
    "        pdf_i.append(norm.pdf(p, mean[j], var[j]))\n",
    "        print(\"probability of observing that point if it came from cluster \" + str(j) + \" = \", pdf_i[j])\n",
    "        # P(S_j) already computed\n",
    "        prob_s[j]\n",
    "\n",
    "    # P(X_i) = P(S_0)P(X_i | S_0) + P(S_1)P(X_i | S_1)\n",
    "    prob_x = prob_s[0] * pdf_i[0] + prob_s[1] * pdf_i[1]\n",
    "\n",
    "    # P(S_j | X_i) = P(X_i | S_j)P(S_j) / P(X_i)\n",
    "    prob_s0_x.append( prob_s[0] * pdf_i[0] / prob_x )\n",
    "    prob_s1_x.append( prob_s[0] * pdf_i[1] / prob_x )\n",
    "\n",
    "probs = zip(data, prob_s0_x, prob_s1_x)\n",
    "for p in probs:\n",
    "    print(p[0])\n",
    "    print(\"Probability of coming from S_1 = \" + str(p[1]))\n",
    "    print(\"Probability of coming from S_2 = \" + str(p[2]))\n",
    "    print()\n"
   ]
  },
  {
   "cell_type": "markdown",
   "metadata": {},
   "source": [
    "f) Having computed `P(S_j | X_i)`, update the estimates of `mean_j`, `var_j`, and `P(S_j)`. How different are these values from the original ones you got from K means? briefly comment."
   ]
  },
  {
   "cell_type": "code",
   "execution_count": 30,
   "metadata": {},
   "outputs": [
    {
     "name": "stdout",
     "output_type": "stream",
     "text": [
      "P(S_1) = 0.5,  P(S_2) = 0.5\n",
      "mean_1 = 8.231788095235574,  mean_2 = 5.455095813271867\n",
      "var_1 = 60.06015674425775,  var_2 = 59.97381484674211\n"
     ]
    }
   ],
   "source": [
    "prob_c = [sum(prob_s0_x)/ len(prob_s0_x), sum(prob_s1_x)/ len(prob_s1_x)]\n",
    "mean = [sum([x[0] * x[1] for x in zip(prob_s0_x, data)]) / sum(prob_s0_x), sum([x[0] * x[1] for x in zip(prob_s1_x, data)]) / sum(prob_s1_x)]\n",
    "var = [sum(map(lambda x : (x - mean[0])**2, prob_s0_x)) / len(prob_s0_x) ,  sum(map(lambda x : (x - mean[0])**2, prob_s1_x)) / len(prob_s1_x)]\n",
    "\n",
    "print(\"P(S_1) = \" + str(prob_s[0]) + \",  P(S_2) = \" + str(prob_s[1]))\n",
    "print(\"mean_1 = \" + str(mean[0]) + \",  mean_2 = \" + str(mean[1]))\n",
    "print(\"var_1 = \" + str(var[0]) + \",  var_2 = \" + str(var[1]))"
   ]
  },
  {
   "cell_type": "markdown",
   "metadata": {},
   "source": []
  },
  {
   "cell_type": "markdown",
   "metadata": {},
   "source": [
    "g) Update `P(S_j | X_i)`. Comment on any differences or lack thereof you observe."
   ]
  },
  {
   "cell_type": "code",
   "execution_count": 32,
   "metadata": {},
   "outputs": [
    {
     "name": "stdout",
     "output_type": "stream",
     "text": [
      "P(S_1) = 0.5,  P(S_2) = 0.5\n",
      "mean_1 = 8.231751539362934,  mean_2 = 3.9027006774191433\n",
      "var_1 = 61.34325132198736,  var_2 = 58.69410647402275\n"
     ]
    }
   ],
   "source": [
    "prob_s0_x.append( prob_s[0] * pdf_i[0] / prob_x )\n",
    "prob_s1_x.append( prob_s[0] * pdf_i[1] / prob_x )\n",
    "\n",
    "prob_c = [sum(prob_s0_x)/ len(prob_s0_x), sum(prob_s1_x)/ len(prob_s1_x)]\n",
    "mean = [sum([x[0] * x[1] for x in zip(prob_s0_x, data)]) / sum(prob_s0_x), sum([x[0] * x[1] for x in zip(prob_s1_x, data)]) / sum(prob_s1_x)]\n",
    "var = [sum(map(lambda x : (x - mean[0])**2, prob_s0_x)) / len(prob_s0_x) ,  sum(map(lambda x : (x - mean[0])**2, prob_s1_x)) / len(prob_s1_x)]\n",
    "\n",
    "print(\"P(S_1) = \" + str(prob_s[0]) + \",  P(S_2) = \" + str(prob_s[1]))\n",
    "print(\"mean_1 = \" + str(mean[0]) + \",  mean_2 = \" + str(mean[1]))\n",
    "print(\"var_1 = \" + str(var[0]) + \",  var_2 = \" + str(var[1]))"
   ]
  },
  {
   "cell_type": "markdown",
   "metadata": {},
   "source": [
    "Higher variance in the clusters, and the probability of each point belonging to each cluster is more evenly distributed."
   ]
  },
  {
   "cell_type": "markdown",
   "metadata": {},
   "source": [
    "h) Use `P(S_j | X_i)` to create a hard assignment - label each point as belonging to a specific cluster (0 or 1)"
   ]
  },
  {
   "cell_type": "code",
   "execution_count": 35,
   "metadata": {},
   "outputs": [
    {
     "name": "stdout",
     "output_type": "stream",
     "text": [
      "P(S_1) = 0.5,  P(S_2) = 0.5\n",
      "mean_1 = 5.886786104991123,  mean_2 = 5.886786104991123\n",
      "var_1 = 23.880678435934314,  var_2 = 15.107106225952066\n"
     ]
    }
   ],
   "source": [
    "prob_s0_x  =[1]\n",
    "prob_s1_x = [2]\n",
    "\n",
    "prob_c = [sum(prob_s0_x)/ len(prob_s0_x), sum(prob_s1_x)/ len(prob_s1_x)]\n",
    "mean = [sum([x[0] * x[1] for x in zip(prob_s0_x, data)]) / sum(prob_s0_x), sum([x[0] * x[1] for x in zip(prob_s1_x, data)]) / sum(prob_s1_x)]\n",
    "var = [sum(map(lambda x : (x - mean[0])**2, prob_s0_x)) / len(prob_s0_x) ,  sum(map(lambda x : (x - mean[0])**2, prob_s1_x)) / len(prob_s1_x)]\n",
    "\n",
    "print(\"P(S_1) = \" + str(prob_s[0]) + \",  P(S_2) = \" + str(prob_s[1]))\n",
    "print(\"mean_1 = \" + str(mean[0]) + \",  mean_2 = \" + str(mean[1]))\n",
    "print(\"var_1 = \" + str(var[0]) + \",  var_2 = \" + str(var[1]))"
   ]
  }
 ],
 "metadata": {
  "kernelspec": {
   "display_name": "Python 3",
   "language": "python",
   "name": "python3"
  },
  "language_info": {
   "codemirror_mode": {
    "name": "ipython",
    "version": 3
   },
   "file_extension": ".py",
   "mimetype": "text/x-python",
   "name": "python",
   "nbconvert_exporter": "python",
   "pygments_lexer": "ipython3",
   "version": "3.10.12"
  },
  "orig_nbformat": 4,
  "vscode": {
   "interpreter": {
    "hash": "e7370f93d1d0cde622a1f8e1c04877d8463912d04d973331ad4851f04de6915a"
   }
  }
 },
 "nbformat": 4,
 "nbformat_minor": 2
}
